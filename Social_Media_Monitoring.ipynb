{
  "cells": [
    {
      "cell_type": "markdown",
      "source": [
        "## Installing needed libraries\n",
        "P.S : the following packages were already installed in the first run for this file, you do not need to rerun those cells."
      ],
      "metadata": {
        "id": "V3wPX67Ii49g"
      }
    },
    {
      "cell_type": "code",
      "source": [
        "! pip install nest-asyncio  # must be downloaded for twint library to work properly"
      ],
      "metadata": {
        "colab": {
          "base_uri": "https://localhost:8080/"
        },
        "id": "MwnTI9nUYKrZ",
        "outputId": "5b8666c8-8d0c-49fe-8fd3-1e63ec08833e"
      },
      "execution_count": null,
      "outputs": [
        {
          "output_type": "stream",
          "name": "stdout",
          "text": [
            "Requirement already satisfied: nest-asyncio in /usr/local/lib/python3.7/dist-packages (1.5.4)\n"
          ]
        }
      ]
    },
    {
      "cell_type": "code",
      "source": [
        "!pip install demoji"
      ],
      "metadata": {
        "colab": {
          "base_uri": "https://localhost:8080/"
        },
        "id": "cnUPpcuVRE_5",
        "outputId": "5a19827b-0f78-46a7-d0a7-dd3c68480677"
      },
      "execution_count": null,
      "outputs": [
        {
          "output_type": "stream",
          "name": "stdout",
          "text": [
            "Requirement already satisfied: demoji in /usr/local/lib/python3.7/dist-packages (1.1.0)\n"
          ]
        }
      ]
    },
    {
      "cell_type": "code",
      "source": [
        "! pip install emoji-encoding"
      ],
      "metadata": {
        "colab": {
          "base_uri": "https://localhost:8080/"
        },
        "id": "iEVNF7YwCc8n",
        "outputId": "57b3be9b-5af7-41be-ba6e-103dd6b65e73"
      },
      "execution_count": null,
      "outputs": [
        {
          "output_type": "stream",
          "name": "stdout",
          "text": [
            "Requirement already satisfied: emoji-encoding in /usr/local/lib/python3.7/dist-packages (0.0.5)\n",
            "Requirement already satisfied: emote in /usr/local/lib/python3.7/dist-packages (from emoji-encoding) (0.1.1)\n"
          ]
        }
      ]
    },
    {
      "cell_type": "code",
      "source": [
        "! pip install emoji"
      ],
      "metadata": {
        "id": "67hcmqnvCrW3",
        "colab": {
          "base_uri": "https://localhost:8080/"
        },
        "outputId": "893f6f10-8f9d-45cb-934f-4ecb53d06d8b"
      },
      "execution_count": null,
      "outputs": [
        {
          "output_type": "stream",
          "name": "stdout",
          "text": [
            "Requirement already satisfied: emoji in /usr/local/lib/python3.7/dist-packages (1.7.0)\n"
          ]
        }
      ]
    },
    {
      "cell_type": "code",
      "source": [
        "!pip install pyspellchecker"
      ],
      "metadata": {
        "id": "KHR0TEzcC9VL",
        "colab": {
          "base_uri": "https://localhost:8080/"
        },
        "outputId": "b30fc656-b279-4017-e245-c43a4a3e6d78"
      },
      "execution_count": null,
      "outputs": [
        {
          "output_type": "stream",
          "name": "stdout",
          "text": [
            "Requirement already satisfied: pyspellchecker in /usr/local/lib/python3.7/dist-packages (0.6.3)\n"
          ]
        }
      ]
    },
    {
      "cell_type": "code",
      "source": [
        "!pip uninstall twint\n",
        "!pip3 install --user --upgrade \"git+https://github.com/twintproject/twint.git@origin/master#egg=twint\""
      ],
      "metadata": {
        "id": "9HdbBOofut1o",
        "colab": {
          "base_uri": "https://localhost:8080/"
        },
        "outputId": "81e5d72e-ef8e-477f-dbe2-5876e7a69811"
      },
      "execution_count": null,
      "outputs": [
        {
          "output_type": "stream",
          "name": "stdout",
          "text": [
            "Found existing installation: twint 2.1.21\n",
            "Uninstalling twint-2.1.21:\n",
            "  Would remove:\n",
            "    /root/.local/bin/twint\n",
            "    /root/.local/lib/python3.7/site-packages/twint-2.1.21.dist-info/*\n",
            "    /root/.local/lib/python3.7/site-packages/twint/*\n",
            "Proceed (y/n)? y\n",
            "  Successfully uninstalled twint-2.1.21\n",
            "Collecting twint\n",
            "  Cloning https://github.com/twintproject/twint.git (to revision origin/master) to /tmp/pip-install-m013w8vs/twint_66a77c29270c4124b039e1393a697d09\n",
            "  Running command git clone -q https://github.com/twintproject/twint.git /tmp/pip-install-m013w8vs/twint_66a77c29270c4124b039e1393a697d09\n",
            "\u001b[33m  WARNING: Did not find branch or tag 'origin/master', assuming revision or ref.\u001b[0m\n",
            "  Running command git checkout -q origin/master\n",
            "Requirement already satisfied: aiohttp in /root/.local/lib/python3.7/site-packages (from twint) (3.8.1)\n",
            "Requirement already satisfied: aiodns in /root/.local/lib/python3.7/site-packages (from twint) (3.0.0)\n",
            "Requirement already satisfied: beautifulsoup4 in /usr/local/lib/python3.7/dist-packages (from twint) (4.6.3)\n",
            "Requirement already satisfied: cchardet in /root/.local/lib/python3.7/site-packages (from twint) (2.1.7)\n",
            "Requirement already satisfied: dataclasses in /root/.local/lib/python3.7/site-packages (from twint) (0.6)\n",
            "Requirement already satisfied: elasticsearch in /root/.local/lib/python3.7/site-packages (from twint) (8.1.2)\n",
            "Requirement already satisfied: pysocks in /usr/local/lib/python3.7/dist-packages (from twint) (1.7.1)\n",
            "Requirement already satisfied: pandas in /usr/local/lib/python3.7/dist-packages (from twint) (1.3.5)\n",
            "Requirement already satisfied: aiohttp_socks in /root/.local/lib/python3.7/site-packages (from twint) (0.7.1)\n",
            "Requirement already satisfied: schedule in /root/.local/lib/python3.7/site-packages (from twint) (1.1.0)\n",
            "Requirement already satisfied: geopy in /usr/local/lib/python3.7/dist-packages (from twint) (1.17.0)\n",
            "Requirement already satisfied: fake-useragent in /root/.local/lib/python3.7/site-packages (from twint) (0.1.11)\n",
            "Requirement already satisfied: googletransx in /root/.local/lib/python3.7/site-packages (from twint) (2.4.2)\n",
            "Requirement already satisfied: pycares>=4.0.0 in /root/.local/lib/python3.7/site-packages (from aiodns->twint) (4.1.2)\n",
            "Requirement already satisfied: cffi>=1.5.0 in /usr/local/lib/python3.7/dist-packages (from pycares>=4.0.0->aiodns->twint) (1.15.0)\n",
            "Requirement already satisfied: pycparser in /usr/local/lib/python3.7/dist-packages (from cffi>=1.5.0->pycares>=4.0.0->aiodns->twint) (2.21)\n",
            "Requirement already satisfied: charset-normalizer<3.0,>=2.0 in /usr/local/lib/python3.7/dist-packages (from aiohttp->twint) (2.0.12)\n",
            "Requirement already satisfied: aiosignal>=1.1.2 in /root/.local/lib/python3.7/site-packages (from aiohttp->twint) (1.2.0)\n",
            "Requirement already satisfied: async-timeout<5.0,>=4.0.0a3 in /root/.local/lib/python3.7/site-packages (from aiohttp->twint) (4.0.2)\n",
            "Requirement already satisfied: multidict<7.0,>=4.5 in /root/.local/lib/python3.7/site-packages (from aiohttp->twint) (6.0.2)\n",
            "Requirement already satisfied: typing-extensions>=3.7.4 in /usr/local/lib/python3.7/dist-packages (from aiohttp->twint) (3.10.0.2)\n",
            "Requirement already satisfied: yarl<2.0,>=1.0 in /root/.local/lib/python3.7/site-packages (from aiohttp->twint) (1.7.2)\n",
            "Requirement already satisfied: frozenlist>=1.1.1 in /root/.local/lib/python3.7/site-packages (from aiohttp->twint) (1.3.0)\n",
            "Requirement already satisfied: attrs>=17.3.0 in /usr/local/lib/python3.7/dist-packages (from aiohttp->twint) (21.4.0)\n",
            "Requirement already satisfied: asynctest==0.13.0 in /root/.local/lib/python3.7/site-packages (from aiohttp->twint) (0.13.0)\n",
            "Requirement already satisfied: idna>=2.0 in /usr/local/lib/python3.7/dist-packages (from yarl<2.0,>=1.0->aiohttp->twint) (2.10)\n",
            "Requirement already satisfied: python-socks[asyncio]<3.0.0,>=2.0.0 in /root/.local/lib/python3.7/site-packages (from aiohttp_socks->twint) (2.0.3)\n",
            "Requirement already satisfied: elastic-transport<9,>=8 in /root/.local/lib/python3.7/site-packages (from elasticsearch->twint) (8.1.1)\n",
            "Requirement already satisfied: certifi in /usr/local/lib/python3.7/dist-packages (from elastic-transport<9,>=8->elasticsearch->twint) (2021.10.8)\n",
            "Requirement already satisfied: urllib3<2,>=1.26.2 in /root/.local/lib/python3.7/site-packages (from elastic-transport<9,>=8->elasticsearch->twint) (1.26.9)\n",
            "Requirement already satisfied: geographiclib<2,>=1.49 in /usr/local/lib/python3.7/dist-packages (from geopy->twint) (1.52)\n",
            "Requirement already satisfied: requests in /root/.local/lib/python3.7/site-packages (from googletransx->twint) (2.27.1)\n",
            "Requirement already satisfied: pytz>=2017.3 in /usr/local/lib/python3.7/dist-packages (from pandas->twint) (2018.9)\n",
            "Requirement already satisfied: python-dateutil>=2.7.3 in /usr/local/lib/python3.7/dist-packages (from pandas->twint) (2.8.2)\n",
            "Requirement already satisfied: numpy>=1.17.3 in /usr/local/lib/python3.7/dist-packages (from pandas->twint) (1.21.5)\n",
            "Requirement already satisfied: six>=1.5 in /usr/local/lib/python3.7/dist-packages (from python-dateutil>=2.7.3->pandas->twint) (1.15.0)\n",
            "Building wheels for collected packages: twint\n",
            "  Building wheel for twint (setup.py) ... \u001b[?25l\u001b[?25hdone\n",
            "  Created wheel for twint: filename=twint-2.1.21-py3-none-any.whl size=38871 sha256=e776ed87ef13cd3c0b1c4ed7380a33f2a89f539dcf43a1dc6d96ec2cd1265e58\n",
            "  Stored in directory: /tmp/pip-ephem-wheel-cache-6qsn6gok/wheels/8d/dc/9f/74b4483d5f997036f04aec7f42bd4b3c80f04264920c368068\n",
            "Successfully built twint\n",
            "Installing collected packages: twint\n",
            "\u001b[33m  WARNING: The script twint is installed in '/root/.local/bin' which is not on PATH.\n",
            "  Consider adding this directory to PATH or, if you prefer to suppress this warning, use --no-warn-script-location.\u001b[0m\n",
            "Successfully installed twint-2.1.21\n"
          ]
        }
      ]
    },
    {
      "cell_type": "code",
      "source": [
        "! pip install nltk"
      ],
      "metadata": {
        "id": "xQFLqO5LOVWp",
        "colab": {
          "base_uri": "https://localhost:8080/"
        },
        "outputId": "0dad50cb-0eec-45c4-ba9b-c66e27b0aa07"
      },
      "execution_count": null,
      "outputs": [
        {
          "output_type": "stream",
          "name": "stdout",
          "text": [
            "Requirement already satisfied: nltk in /usr/local/lib/python3.7/dist-packages (3.2.5)\n",
            "Requirement already satisfied: six in /usr/local/lib/python3.7/dist-packages (from nltk) (1.15.0)\n"
          ]
        }
      ]
    },
    {
      "cell_type": "markdown",
      "source": [
        "## Mounting to google drive is mandatory in order to read and save data there\n"
      ],
      "metadata": {
        "id": "uujF2vxB760y"
      }
    },
    {
      "cell_type": "code",
      "source": [
        "# Mounting to google drive\n",
        "from google.colab import drive\n",
        "drive.mount('/content/drive/')"
      ],
      "metadata": {
        "colab": {
          "base_uri": "https://localhost:8080/"
        },
        "id": "P52wZKhfIqsi",
        "outputId": "68882bbc-c9c0-437c-e329-fbfb6e341d79"
      },
      "execution_count": null,
      "outputs": [
        {
          "output_type": "stream",
          "name": "stdout",
          "text": [
            "Mounted at /content/drive/\n"
          ]
        }
      ]
    },
    {
      "cell_type": "markdown",
      "source": [
        "## Importing needed libraries"
      ],
      "metadata": {
        "id": "azpeAaHs0_4u"
      }
    },
    {
      "cell_type": "code",
      "source": [
        "import nest_asyncio  # must be imported and applied for twint library to work properly\n",
        "nest_asyncio.apply()"
      ],
      "metadata": {
        "id": "GxjZuFDMYM8z"
      },
      "execution_count": null,
      "outputs": []
    },
    {
      "cell_type": "code",
      "execution_count": null,
      "metadata": {
        "id": "F5mnz48wi2Dj"
      },
      "outputs": [],
      "source": [
        "import pandas as pd\n",
        "import numpy as np\n",
        "import re\n",
        "import string\n",
        "import sys\n",
        "import os\n",
        "\n",
        "import nltk\n",
        "from nltk.corpus import stopwords, words\n",
        "import spacy\n",
        "from spacy.lang.en import STOP_WORDS\n",
        "import emoji\n",
        "import demoji\n",
        "from spellchecker import SpellChecker\n",
        "\n",
        "import torch \n",
        "import torch.nn as nn\n",
        "import torch.nn.functional as F\n",
        "import torch.optim as optim\n",
        "from torch.autograd import Variable\n",
        "\n",
        "import nltk\n",
        "#nltk.download('stopwords')\n",
        "#nltk.downl oad('words')\n",
        "\n",
        "from keras.models import Sequential\n",
        "from keras.layers import Dense, Embedding, LSTM, SpatialDropout1D, Flatten\n",
        "from sklearn.model_selection import train_test_split\n",
        "from sklearn.feature_extraction.text import CountVectorizer\n",
        "from keras.preprocessing.text import Tokenizer\n",
        "from keras.preprocessing.sequence import pad_sequences\n",
        "from keras.utils.np_utils import to_categorical\n"
      ]
    },
    {
      "cell_type": "code",
      "source": [
        "# !pip uninstall twint\n",
        "# !pip3 install --user --upgrade \"git+https://github.com/twintproject/twint.git@origin/master#egg=twint\""
      ],
      "metadata": {
        "id": "kgz_J9AOSuu2"
      },
      "execution_count": null,
      "outputs": []
    },
    {
      "cell_type": "code",
      "source": [
        "import twint # if you got any errors running this cell please restart the runtime and uncomment the previous cell and run it (it is a bug with the library itself)"
      ],
      "metadata": {
        "id": "qRdURsdPSeqd"
      },
      "execution_count": null,
      "outputs": []
    },
    {
      "cell_type": "markdown",
      "source": [
        "## Scraping Data (step 1- week 1)\n",
        "P.S: In this part you can either change the following variables \n",
        "\n",
        "```\n",
        "date='2019-09-20'\n",
        "wordToSearch= '#iPhone13'\n",
        "numOfTweets= 100\n",
        "```\n",
        "and go through the code step by step to scrap the twitter for you selected inforamtion, or you can skip this part and go straight to the part named (read collected data) in order to load the already scrapped data and continue from there.\n"
      ],
      "metadata": {
        "id": "PbtxnY7ijLae"
      }
    },
    {
      "cell_type": "code",
      "source": [
        "default_date='2019-09-20'\n",
        "default_search_string='#iPhone13'"
      ],
      "metadata": {
        "id": "y9r4v36H6EWK"
      },
      "execution_count": null,
      "outputs": []
    },
    {
      "cell_type": "code",
      "source": [
        "date='2019-09-20'  #if you decide to change the date, please follow the same formatting as the default value\n",
        "search_string= '#iPhone13' \n",
        "numOfTweets= 100  \n",
        "# you can choose the number of tweets to be scrapped, \n",
        "# but it is recommended to avoid choosing a large number in the sake of saving time scrapping and cleaning the data"
      ],
      "metadata": {
        "id": "x4z3mx3q1Nsu"
      },
      "execution_count": null,
      "outputs": []
    },
    {
      "cell_type": "code",
      "execution_count": null,
      "metadata": {
        "id": "LFPNN32Mi2Dn"
      },
      "outputs": [],
      "source": [
        "# Defining a function to scrap 'search_string' mentioned in tweets since a specific date 'since' within the limit 'limit' of tweets.\n",
        "def twint_search(since, search_string,limit):\n",
        "    c = twint.Config()\n",
        "    c.Limit = limit\n",
        "    c.Search = search_string\n",
        "    c.Since = since\n",
        "    c.Lang = 'en'       # scrapping tweets in english (there is a bug in the library itself, that is why the scrapped tweets are not only in english)\n",
        "    c.Store_csv = True  #Stroing the tweets in a csv file\n",
        "    c.Output = \"/content/drive/MyDrive/scrapped_data/\"+search_string+\"_\"+date+\".csv\"\n",
        "    twint.run.Search(c) #searching in twitter\n",
        "    df = pd.read_csv(\"/content/drive/MyDrive/scrapped_data/\"+search_string+\"_\"+date+\".csv\")\n",
        "    return df  #returning the results as dataframe"
      ]
    },
    {
      "cell_type": "code",
      "execution_count": null,
      "metadata": {
        "id": "c5kWHomNi2Do",
        "colab": {
          "base_uri": "https://localhost:8080/"
        },
        "outputId": "778cd995-bcdd-43fe-d87e-fffd2409321b"
      },
      "outputs": [
        {
          "output_type": "stream",
          "name": "stdout",
          "text": [
            "1510721179820040192 2022-04-03 20:49:31 +0000 <cad2095> 今日、機種変で注文したiPhone13(グリーン)が届くので4時に目が覚めたw iPhone8 Plusを約4年半使いました。バッテリー状態は84%ですが減り方ヤバかったのでiPhone13に換えました。ヤバメッチャ楽しみ😁#iPhone13 #新色グリーン\n",
            "1510719048266678272 2022-04-03 20:41:03 +0000 <ikkatu12> ノジマ iPhone13 iPhone13mini MNP 一括 1円 キャッシュバック付のからくり 下取りがないと契約出来ないみたい 回線なし契約させないそのからくり #iPhone13  #MNP   https://t.co/pnhKNSpnWr\n",
            "1510718866967908355 2022-04-03 20:40:20 +0000 <ausshimata> ＼iPhone最新モデル 好評発売中！／ ご購入には事前のご予約が必要です。 当店のWEB予約サイトをご利用ください↓  https://t.co/YNViBCE7qp 店頭には実機も展示中！最新機能を体感できます！ お気軽にご来店ください。 #au #iphone #iphone13 #光市\n",
            "1510715330229772292 2022-04-03 20:26:17 +0000 <piloka> 今日も札幌東部の#イマソラ は良いお天気です！ 今日は歯医者だぁ〜💦  #イマソラ  #札幌東部  #iphone13  https://t.co/nL6oKutFoD\n",
            "1510713578466295808 2022-04-03 20:19:19 +0000 <keitaijohokyoku> ドコモのiPhone12 MNP一括1円ってやばく無い？ #MNP  #iPhone12 #一括1円 #iPhone13  https://t.co/PqSHNXlltB\n",
            "1510707836715683842 2022-04-03 19:56:30 +0000 <jaimepuerta> One day, one photo Day 136 // 2022/04/01  #onedayonephoto  @apple #iphone13 #think #thinkandsurpriseusall  #digitalphotography  📸🎞🇺🇸 @adobe @creativecloud @lightroom ⁦@AdobeCCExpress⁩  https://t.co/MqrrRDcnmE\n",
            "1510707045099446272 2022-04-03 19:53:21 +0000 <naseem_speach> “iPhone 13 Pro Max Real Day In The Life Review” Video Is Out Now💚👉🏾  https://t.co/8Nphv5RUHS  #iPhone #iphone13promax #iPhone13Pro #iphone13mini #Apple #Iphone14ProMax #iPhone13  https://t.co/L0JYgOalnJ\n",
            "1510705755829452800 2022-04-03 19:48:14 +0000 <sblo_> 本日の #MNP #新規契約 #キャッシュバック  #一括 #キャンペーン 情報  🏠#楽天モバイル のCP  #iPhone13(512GB) 131,620円→25ヶ月目に返却した場合65,808円～+最大3.5万pt🎁  その他 #一括1円 #一括0円 等CP👇  https://t.co/OaajMuB1SL\n",
            "1510699181001826317 2022-04-03 19:22:06 +0000 <emmakaufmann> Flamingo phone case   https://t.co/2xEpRB7yO6  #iPhone13  #HandmadeHour #celebsforsmallbiz #ukcraftershour #craftbizparty #crafthour ⭐⭐⭐⭐⭐⭐⭐\n",
            "1510698500664741896 2022-04-03 19:19:24 +0000 <mobile2000> اكتب بالبحث كود المنتج : 2111  متوفر من خلال الاونلاين فقط  توصيل خلال 25 دقيقة فقط من خلال 1852000 اتصال او واتساب  *تطبق الشروط والأحكام  للمزيد من العروض تفضل بزيارة موقعنا  https://t.co/rESbM4FG9S او حمل تطبيقنا من الابل ستور او البلاي ستور  #Apple #iPhone13promax #iPhone13  https://t.co/G5QSsFg2Nj\n",
            "1510692619260600321 2022-04-03 18:56:02 +0000 <sssita88> ตามหา AirPods gen2 งบไม่เกิน3000 ประกันเหลือนะคะ พร้อมโอนสุด 💗💗💗💗 #airpodsมือสอง #iPhoneมือสอง #ipadมือสอง #iPhone13 #แอร์พอดมือสอง\n",
            "1510688994169958410 2022-04-03 18:41:38 +0000 <thismightbeAL> Late summer blooms in the garden to brighten up Sunday. #iPhone13 #shotoniphone  https://t.co/lDu0V9Eauq\n",
            "1510687324644192256 2022-04-03 18:35:00 +0000 <ytechb> 18 Ming-Boggling Wallpaeprs for iPhone 12 and iPhone 13!  Download -  https://t.co/2JkBHSUJQt  #iPhone #Wallpaper #Wallpapers #iPhone12 #iPhone13 #iPhone13Pro #iPhone12ProMax #iPhone11  https://t.co/uIJl7BDbRJ\n",
            "1510685816099684362 2022-04-03 18:29:00 +0000 <Fenixprodutora1> SORTEIO IPHONE 13 - RAÍSSA NA FM O DIA  Gente, tem sorteio rolando de um IPHONE 13 na FM O DIA, a maior rádio do Brasil!!!  Confira as regras no site da FM O DIA.  https://t.co/OS7fscSDeS  @raissacantora_ @fmodia  #raissa #fmodia #funku #mistercatra #catra #mrcatra #funk #iphone13  https://t.co/ZwzSO1GIDh\n",
            "1510685621676916740 2022-04-03 18:28:14 +0000 <vinimachado1991> SORTEIO IPHONE 13 - RAÍSSA NA FM O DIA  Gente, tem sorteio rolando de um IPHONE 13 na FM O DIA, a maior rádio do Brasil!!!  Confira as regras no site da FM O DIA.  https://t.co/LBDbe0feH5  @raissacantora_ @fmodia  #raissa #fmodia #funku #mistercatra #catra #mrcatra #funk #iphone13  https://t.co/U5csr8F1nJ\n",
            "1510676821796392962 2022-04-03 17:53:15 +0000 <Vyyyper> 🚨🚨🚨NEW VIDEO🚨🚨🚨  Improve your Tech \"Feng Shui\" with the @nomadgoods Base One  https://t.co/v2UUdvxmUV  PLEASE SHARE 🔥🔥🔥🔥🔥  #Apple  #youtuber  #youtubers #Nomad #Magsafe #iPhone13 #tech #technology #review  https://t.co/DT3oMXW1Df\n",
            "1510675952686309383 2022-04-03 17:49:48 +0000 <BrandYassine> TORRAS Shockproof Compatible for iPhone 13 Pro Case, [Military-Grade Drop Tested] Translucent Matte Hard PC Back with Soft Silicone Edge Slim Protective Phone Guardian, Black  https://t.co/E3M1qOgDCZ #iPhone13 #iPhone\n",
            "1510663589287317505 2022-04-03 17:00:41 +0000 <yourcreategoods> 病みつきになる魅力的な #イラスト を描く柴田ヰコ（@insomnia_ico）氏のグッズは雑貨屋アリスの白うさぎで絶賛発売中！ #iPhoneケース は最新 #iPhone13 シリーズにも対応可能です♪  https://t.co/FinQgVQAG9\n",
            "1510663425654984709 2022-04-03 17:00:02 +0000 <ArtsCase> sugar skull woman by haroulita for Galaxy S21 ultra | ArtsCase #ArtsMakers #ArtsCase #art #phonecases #iphonecases #iphone13 #galaxys21 #apple #samsung  https://t.co/pCjTkiYR9K\n",
            "1510659465250762754 2022-04-03 16:44:17 +0000 <pappy4649> 新しいiPhoneやっと開封した。 まさかの5G圏外？だしストレージ余りまくり😓  #iphone13  #iphone13pro  #iphone13promax   #新色 #アルパイングリーン  https://t.co/ki9VBGkic3\n",
            "1510658568256901122 2022-04-03 16:40:44 +0000 <keitaijohokyoku> イオン出張所では定期的に安売りをしていることが多いです。 たまには顔を出してみることをオススメします。 #MNP #イオン #一括1円 #iPhone13 #iPhone13mini #iPhone12   https://t.co/67kYRmge9J\n",
            "1510658426082570242 2022-04-03 16:40:10 +0000 <TheTimesOfHind2> दिल चुराने आ रहा Realme का iPhone 13 जैसा दिखने वाला Smartphone, जानें Launch Date और सबकुछ   #TheTimesOfHind #TechNews #Realme #iPhone13   https://t.co/aMHnAWHG6w\n",
            "1510658323103821835 2022-04-03 16:39:45 +0000 <allmobileworld> iPhone sbloccato come si fa a sapere se il tuo lo è  https://t.co/M95sqyCRlP #iPhone13 #iPhone13ProMax #Apple\n",
            "1510657929300615178 2022-04-03 16:38:11 +0000 <sblo_> ソフトバンクにMNP(乗り換え)または新規契約で #20000円キャッシュバック または 機種代から #22000円割引き キャンペーン実施中 ↓ #iPhone13  Web申し込み⇒自宅に届くので来店不要！  #ソフトバンク #乗り換えキャッシュバック #キャッシュバック  詳細👇  https://t.co/eu7FJAQuVt\n",
            "1510657157917728773 2022-04-03 16:35:07 +0000 <interccc> iOS 15.4.1の何がいいって、【マスクしたまま解除】の精度が素晴らしい‼️　ホントにすげー快適‼️  アプデして良かった〜☺️ ※環境iPhone13 #iOS 15.4.1  #iPhone13  https://t.co/wX0LsAhETT\n",
            "1510655674094653443 2022-04-03 16:29:13 +0000 <davepepper01> #architectural #detail #todayatapple #todayatapplephotowalk #iphone13 #ultrawide  https://t.co/PuODylMBVA  https://t.co/PgB15Kg0zF\n",
            "1510654066816618498 2022-04-03 16:22:50 +0000 <News18TamilNadu> அமேசான், பிளிப்கார்டில் ஐபோன் 13 மீது கிடைக்கும் \"அடேங்கப்பா\" ஆபர்கள்!  #Amazon #FlipKart #IPhone13   https://t.co/Iva6P4tgCs\n",
            "1510650954437181440 2022-04-03 16:10:28 +0000 <ausshimata> ＼iPhone最新モデル 好評発売中！／ ご購入には事前のご予約が必要です。 当店のWEB予約サイトをご利用ください↓  https://t.co/YNViBClYch 店頭には実機も展示中！最新機能を体感できます！ お気軽にご来店ください。 #au #iphone #iphone13 #光市\n",
            "1510650577650425864 2022-04-03 16:08:58 +0000 <jimmytechsf> iOS 15.4 allows Face ID to work while wearing a face mask. A little late, but it may be useful from time to time. #JimmyTechTips #iOStips #iPhoneTips #iPhone #AppleTips #iPhone12 #iPhone13  https://t.co/0vCOQeABWF\n",
            "1510648511754289161 2022-04-03 16:00:46 +0000 <yourcreategoods> セクシーそしてスタイリッシュな #イラスト を描く續（@tuduku__ ）氏のグッズは雑貨屋アリスの白うさぎで絶賛発売中！！ #iPhoneケース は最新 #iPhone13 シリーズにも対応可能です♪  https://t.co/pXTvT0KidO\n",
            "1510646514036752390 2022-04-03 15:52:50 +0000 <ElMrManzana> Usas #YouTubePremium ? Revisa tus estadísticas de uso y ve si te vale la pena , en mi caso cada dollar lo desquita , muestra las tuyas #YouTube #iOS1541 #ios154 #iOS #iPhone13 #streaming #videos  https://t.co/xrQdgUDjbx\n",
            "1510638428341342216 2022-04-03 15:20:42 +0000 <proxaglobal> 📢PROXA Slim Card Phone Case Compatible with iPhone 12 &amp; 13 series ✨   Dual materials with well-stitched edge 👀 Fashionable and durable for everyday use 😎   Click to find out more cases for iPhone 👆  #apple #phonecase #caseiphone #iphone13case #iphone12case #iphone13  https://t.co/wrApx61Yng\n",
            "1510638257889058824 2022-04-03 15:20:01 +0000 <VideoMasterApp> #iPhone13 &amp; #MicSwapMultiTrack 🙌 Mobile Podcasting Tool!   https://t.co/t5TJ5P2Fzr  https://t.co/fMa974ADTn\n",
            "1510637002164772871 2022-04-03 15:15:02 +0000 <ArtsCase> Woman in a hat by Martina for Galaxy S21 | ArtsCase #ArtsMakers #ArtsCase #art #phonecases #iphonecases #iphone13 #galaxys21 #apple #samsung  https://t.co/tjuTCCAQv3\n",
            "1510634658018770947 2022-04-03 15:05:43 +0000 <sekainotoshiki> #iPhone13  https://t.co/h8bsMll0xM\n",
            "1510634639735799810 2022-04-03 15:05:39 +0000 <sekainotoshiki> #iPhone13  https://t.co/ps6zYnmNvW\n",
            "1510634625194160133 2022-04-03 15:05:35 +0000 <sekainotoshiki> #iPhone13  https://t.co/KZOO0VUx9t\n",
            "1510634613366194182 2022-04-03 15:05:32 +0000 <sekainotoshiki> #iPhone13  https://t.co/mTcTCG2yhS\n",
            "1510634590029086724 2022-04-03 15:05:27 +0000 <sekainotoshiki> #iPhone13  https://t.co/YCdwIMwpl0\n",
            "1510634575550377987 2022-04-03 15:05:23 +0000 <sekainotoshiki> #iPhone13  https://t.co/dy7YTReY4x\n",
            "1510634542662819840 2022-04-03 15:05:15 +0000 <sekainotoshiki> #iPhone13  https://t.co/HzGdmyVmTm\n",
            "1510634512698720256 2022-04-03 15:05:08 +0000 <sekainotoshiki> #iPhone13  https://t.co/9AbsaSdUcB\n",
            "1510634494134722560 2022-04-03 15:05:04 +0000 <sekainotoshiki> #iPhone13  https://t.co/0WMVNJY6qz\n",
            "1510634477609172998 2022-04-03 15:05:00 +0000 <sekainotoshiki> #iPhone13 #シネマティックモード  https://t.co/huZnwOeynF\n",
            "1510633656955518980 2022-04-03 15:01:44 +0000 <kinokosyan> ねぇAppleさん。早くiOS15.4から新しいバージョン出してください？ 気合いじゃどうしようもない程音ゲーが楽しめない酷さなんですよ。 このままじゃモチベダダ下がりでアンスト考える案件です。   #Apple  #iPhone13   #ios154   #iOS15.4\n",
            "1510633446846398471 2022-04-03 15:00:54 +0000 <enjoycamera0806> iPhone13クオリティ高い… お正月にお友達が飲んでいたので 私は飲まずに撮影してました( ∩'-'📷⊂ ) クライナー可愛いから好きです🥃 💎🔮  #Kleiner #iPhone13  #カメラ好きな人と繋がりたい #写真好きな人と繋がりたい #キリトリセカイ #キラキラ  https://t.co/wJ1AYjFx8t\n",
            "1510633316092850177 2022-04-03 15:00:23 +0000 <akajphilly> How I celebrated my #StPatricksDay by treating myself to the new #GREEN #iPhone13 some #AvocadoToast &amp; a #ShamrockMacchiato from #Dunkin plus reading #Watchmen on #HboMax @Apple @dunkindonuts @hbomax 💚  https://t.co/G0wv0a30L1\n",
            "1510633226427158530 2022-04-03 15:00:02 +0000 <MacStoreMx> ¿Aún no adquieres tu #iPhone12 y #iPhone13? 🧐  No te preocupes que aún te quedan unas cuantas horas para poderlos conseguir en promociones espectaculares.  *Promoción exclusiva online *Consulta modelos participantes. *Vigencia del 30 de marzo al 03 de abril de 2022.\n",
            "1510633224036392966 2022-04-03 15:00:01 +0000 <ArtsCase> Trendy Girl in Spring in Paris by DaDo ART for Galaxy S21 | ArtsCase #ArtsMakers #ArtsCase #art #phonecases #iphonecases #iphone13 #galaxys21 #apple #samsung  https://t.co/JURP0E8Tyd\n",
            "1510627594676600832 2022-04-03 14:37:39 +0000 <junkjunkiPhone> #iPhone13 の機種変更時に下取りしてもらえなかったiPhone買い取り致します。壊れていても高額買取致します。\n",
            "1510624410918477833 2022-04-03 14:25:00 +0000 <hesheshopping> ORIbox Case Compatible with #iPhone13 Mini Case, Platinum Ultra-Thin Non-Slip, Lightweight  https://t.co/PrIJB03Evo via @amazon\n",
            "1510623195472474113 2022-04-03 14:20:10 +0000 <mvozxs7zgOK7eq8> スマートフォンやタブレットがあれば『ドラゴンクエストX』をいつでもどこでも楽しめる！かんたん3STEPで「終わらない冒険」を始めよう！ #DQ10  #iPhone13  #スマホ #Windows11   #タブレット本体   https://t.co/ma9wyxZbtM\n",
            "1510623177755402245 2022-04-03 14:20:06 +0000 <hayase85> 2022 Appel 新製品！！！  iPad Air 第5世代(64GB,256GB)  新色iPhone 13 iPhone 13 pro iPhone 13 pro MAX アルパイングリーン  iPhone SE (第3世代) iOS15.4  Amazonアップル公式ストア販売中！  商品一覧はこちら→  https://t.co/bBneoCfq6n  . #iPhoneSE3 #iPadAir5 #iPhone13  https://t.co/pHGIAjIJBe\n",
            "1510621372468277251 2022-04-03 14:12:55 +0000 <rururu_1675> 超綺麗な写真撮れたわ #iPhone13  https://t.co/8H5Nd1JxR0\n",
            "1510620289415380994 2022-04-03 14:08:37 +0000 <abcdefgh400> 楽天回線セット申し込みすると、#iPhone13 がお得に買えるよ‼️  #iPhone13 #iPhone13ProMax #楽天モバイル  #格安スマホ  👇️ここから、20000円offクーポンが手に入るよ✨  https://t.co/GuEgYAC7fT\n",
            "1510620120980529157 2022-04-03 14:07:57 +0000 <abcdefgh400> 【新品】iPhone 13 128GB ミッドナイト SIMフリー MLNC3J/A‼️  #iPhone  #iPhone13  #楽天モバイル #格安SIM   👇️楽天で在庫見つけたよ❗  https://t.co/NshkiEKo5d\n",
            "1510619341972459520 2022-04-03 14:04:51 +0000 <Makiko0211> 今日の昼間頃から(多分🥺)スマホが圏外のままになった。Wi-Fiは🆗だからネットで調べてアレコレしてみたけど繋がらない！どうしちゃったのー？ simかなぁ。ショップ行くのが面倒なのよね、、、 #iPhoneが圏外 #iPhone13 #困った\n",
            "1510618396421144577 2022-04-03 14:01:06 +0000 <sekainotoshiki> #iPhone13  https://t.co/AkJl6H8C4L\n",
            "1510618316632690698 2022-04-03 14:00:47 +0000 <yourcreategoods> 女の子のエモい #イラスト を描くぷう子（@puu_xxx888）氏のグッズは雑貨屋アリスの白うさぎで絶賛発売中！！ #iPhoneケース は最新 #iPhone13 シリーズにも対応可能です♪  https://t.co/6AX4DjegvG\n",
            "1510618032682708992 2022-04-03 13:59:39 +0000 <sekainotoshiki> #iPhone13  https://t.co/QLn60KGPZe\n",
            "1510617674401054720 2022-04-03 13:58:14 +0000 <sekainotoshiki> #iPhone13  https://t.co/9DxpzWWDwM\n",
            "1510617418322051072 2022-04-03 13:57:13 +0000 <sekainotoshiki> #iPhone13  https://t.co/HcxRRlzQRH\n",
            "1510617181457108995 2022-04-03 13:56:16 +0000 <sekainotoshiki> #iPhone13  https://t.co/pO9u2bvGh3\n",
            "1510616865760215043 2022-04-03 13:55:01 +0000 <sekainotoshiki> #iPhone13  https://t.co/TKbUbHfa0d\n",
            "1510616496317530112 2022-04-03 13:53:33 +0000 <sekainotoshiki> #iPhone13  https://t.co/avbYExEEyp\n",
            "1510614612873744393 2022-04-03 13:46:04 +0000 <otatanuki> 楽天でiphone13用の手帳型ケースとフィルム注文したけど、着くのは明日以降になるみたい🥺 来るまでは気をつけて使わないと😓 #iPhone13 #岡山\n",
            "1510613242238074880 2022-04-03 13:40:37 +0000 <ponpontantan1> 楽天モバイルの『W突破記念キャンペーン』MNPとiPhone購入で35,000ポイント‼   https://t.co/CDSgUIraRk  #楽天モバイル #iPhone13 #ブログ #ブログ更新\n",
            "1510610678658498563 2022-04-03 13:30:26 +0000 <Qp74TPm4BGfpgYA> #iPhone13 mini 128GB simフリー 端末本体のみ#なにこれ！めっちゃ安 新型ですよ！！   https://t.co/fMSZWpeV2U\n",
            "1510610601994764288 2022-04-03 13:30:07 +0000 <TekkiTake> Shield-ing your #iPhone13 with the most reliable case from @rapticstrong  Buy Now! Tekkitake: https://t.co/thOxUFHeDR Amazon: https://t.co/M07DbG5bRd #tekkitake #techaccessories #raptic #rapticstrong #shield #appleiphone  https://t.co/YR7MY3ud8u\n",
            "1510610260569964550 2022-04-03 13:28:46 +0000 <otatanuki> iPhone8プラスが5.5インチで13が6.1インチだから画面サイズ大きいのかなと思ったら、実は横幅は5mmほど狭くて、そのかわり縦幅が1cmちょいくらい大きい感じだった(笑) #iPhone13 #岡山\n",
            "1510609394857259012 2022-04-03 13:25:20 +0000 <otatanuki> iPhone13取りに行って設定終わった👍 ポケモンGOも無事ログインできた☺️ データ移行に2時間以上かかったけど(笑) #iPhone13 #ポケモンGO #岡山  https://t.co/YSQvFWh74K\n",
            "1510607666326171653 2022-04-03 13:18:28 +0000 <mamico_tw> ／ 楽天モバイル申込み前にキャンペーンエントリーしてお得にポイント還元！ ＼ #楽天モバイル #iPhone13   https://t.co/qOvEMNO9B7\n",
            "1510607270622957569 2022-04-03 13:16:53 +0000 <yugioh0225> 65000円オフはやばい  在庫時々iPhone13やSE復活してます！ 要チェック 楽天モバイルショップでのプラン申し込み＋店頭受取限定】iPhone 12 256GB 【65000円OFFクーポン配布中】simフリー 国内正規品 Apple 本体 iPhone一括 ケーコジ #iPhone13  #iPhone12  #iPhone一括\n",
            "1510606907215859718 2022-04-03 13:15:27 +0000 <xpBdQSPMtorgJU4> #なにこれ！めっちゃ安 売り切れる前に！ #iPhone13 256GB simフリー 端末本体のみ   https://t.co/8mHuHzTt6s\n",
            "1510606673345400835 2022-04-03 13:14:31 +0000 <iphone13models> Which is your favourite Model? #iPhone13Mini #iPhone13 #iPhone13Pro #iPhone13ProMax  https://t.co/Ty3jWZzVH7\n",
            "1510604264694902788 2022-04-03 13:04:57 +0000 <caselovewink> S2โฮโลแกรม  เคสขอบนิ่มหลังแข็ง คลุมรอบเครื่อง 7+ 8+ X Xs Xr XsMax 11 11Pro 11ProMax 12 12Pro 12ProMax 13 13Pro 13ProMax ราคา 150฿ #เคสเลิฟวิ๊ง #พร้อมส่ง #เคส #เคสไอโฟน #เคสแอร์พอด #case #caseiphone #iphone #iphone13 #iPhone13Pro #iPhone13ProMax  https://t.co/incCWNXuQw\n",
            "1510603257798086665 2022-04-03 13:00:56 +0000 <ami_ARMY_1172> 娘ちゃん(次女)iPhoneデビューしました☺️ 中学生でスマホの時代なんて私の中学校時代には考えられなかったけどな💦   #iPhone13  #中学生でiPhoneデビュー  https://t.co/5UWMiDvose\n",
            "1510603019724853251 2022-04-03 13:00:00 +0000 <jcsatanas> Ma sélection de coques, étuis, accessoires pour iPhone 13 et iPhone 13 mini  #coque #etui #accessoires #protection #verre #vitre #test   #iPhone13Mini #iPhone13    #jcsatanas   https://t.co/tGL4IgVpeD  https://t.co/gExQprqQ2W\n",
            "1510592955500810241 2022-04-03 12:20:00 +0000 <mariko_anbiru> ついに機種変して、13になったぜ‼️うきゃっ(Ŏ艸Ŏ) #iPhone13  #機種変更  https://t.co/LfzZlp5w4h\n",
            "1510592437290692616 2022-04-03 12:17:57 +0000 <mochihadako2> #UQモバイル 契約前に要チェック  キャンペーン特典で１万円以外にもさらに数千円分還元されることがあるので、もらい忘れて損しないようコチラからチェックしてみてくださいね！  #Uqmobile #格安SIM #格安スマホ #iPhone13   キャッシュバック特典一覧はココで確認 ↓  https://t.co/mTSZljJ6rP\n",
            "1510592415379628039 2022-04-03 12:17:51 +0000 <mochihadako2> #楽天モバイル 申し込み前に要チェック  35000PT以外にも実はさらに数千ポイントもらえるキャンペーン特典もあるのでもらい忘れたなんてことないようココから確認してくださいね！  #楽天ハンド #楽天hand #楽天モバイル紹介コード #iPhone13  その他の特典一覧はコチラ ↓  https://t.co/cHxOhuZXf8\n",
            "1510590930549583872 2022-04-03 12:11:57 +0000 <keitaijohokyoku> iPhone13の新色 アルパイングリーンを少しでも安く買う MNP一括1円 で買うことが出来るのか？ 乗り換えがそれでもお得な理由は？ #MNP #一括1円 #iPhone13   https://t.co/KNp315UNwr\n",
            "1510590707148673029 2022-04-03 12:11:04 +0000 <ikkatu12> 3月末までにiPhone12の購入がお得  MNP一括1円や新規一括1円などで買える  #MNP #一括1円 #iPhone12 #iPhone13   https://t.co/6ahHe3k5pV\n",
            "1510590635333795847 2022-04-03 12:10:47 +0000 <jyseruwu> #iPhone13 pro maxのグリーンはアップル信者の私は絶対に欲しい✨   楽天でギリギリ買えたけど今はどうだろう？？   ポイントもつくから楽天だとお得でいいんだよね～！　  https://t.co/R82XR0ZUBG\n",
            "1510588382296035342 2022-04-03 12:01:50 +0000 <pocha_photo> 雨上がり。 #キリトリセカイ  #写真好きな人と繋がりたい  #写真撮ってる人と繫がりたい  #iPhone13  https://t.co/Jk3OwiTKsv\n",
            "1510588091534389250 2022-04-03 12:00:41 +0000 <yourcreategoods> セクシーで可愛い女の子の #イラスト を描く赤ZUKIN（@AKAZUKIN666 ）様のグッズが雑貨屋アリスの白うさぎで絶賛発売中！ #iPhoneケース は最新 #iPhone13 シリーズにも対応可能です♪  https://t.co/ONItKFUNT7\n",
            "1510587863293120516 2022-04-03 11:59:46 +0000 <0ret0re> 全知全能スマホケース📱  #iPhone #iPhone13 #iPhoneケース #全知全能 #天才 #ハンドメイド #ハンドメイド好きさんと繋がりたい  https://t.co/k8gfoWxmcr\n",
            "1510586824808595465 2022-04-03 11:55:39 +0000 <0ret0re> アディ推すスマホケース📱  #iPhone #iPhone13 #iPhoneケース #アディオス #推し活 #推し #推し不在  https://t.co/mnY9hHewNy\n",
            "1510580820381429763 2022-04-03 11:31:47 +0000 <keitaijohokyoku> ヨドバシのキャンペーンは結構オススメ 4月4日までのキャンペーン価格？ #MNP #一括1円 #一括0円 #iPhone12 #iPhone13   https://t.co/EtB4V9OxVw\n",
            "1510576161063317507 2022-04-03 11:13:16 +0000 <onoharada> #iPhone13 #au 予約できます。  https://t.co/HobTBo3a45\n",
            "1510576142465392640 2022-04-03 11:13:12 +0000 <V6aPtM55PNi2CUR> 「 質問 #鬼ごっこ ③ 35分以降 → #iPhone13 512G プレゼント🌟 #逃げ切り成功 2022/3/16🌸 💌2022/3/17 メール問い合わせし、その際に 画像2枚添付 しましたが 返信連絡… まだ来ないのですが❓ #心臓ドバドバ #DbDモバイル #デッドバイ #ドワイト #テレビゲーム総選挙 」 @ DbDMobile_JP へ質問 ❓\n",
            "1510575613127454722 2022-04-03 11:11:05 +0000 <ikkatu12> ノジマ iPhone13 iPhone13mini MNP 一括 1円 キャッシュバック付のからくり 下取りがないと契約出来ないみたい 回線なし契約させないそのからくり #iPhone13  #MNP   https://t.co/pnhKNS7eIj\n",
            "1510575035760918531 2022-04-03 11:08:48 +0000 <fff_____yyy> 機種変してiPhone13になりました！！ てことで節目(?)として(?) 志望校 早稲田文化構想 にします。 #勉強垢始めました  #勉強垢さんフォロバします  #iPhone13 #機種変更  #志望校 #早稲田\n",
            "1510573329761116161 2022-04-03 11:02:01 +0000 <auooimachi> iPhone 13 Pro iPhone 13 Pro Max iPhone 13 iPhone 13 mini  大好評発売中！  ご予約はこちらから  https://t.co/RUGE8U6woI  #au #auショップ #大井町 #品川区 #iPhone13  https://t.co/IQAkCopP5a\n",
            "1510568530533515266 2022-04-03 10:42:57 +0000 <tottemolukkyman> 在庫復活😍  #iPhone13 Pro 128GB simフリー 端末本体のみ （楽天モバイル回線なし） 新品  #Apple お早めに👍   https://t.co/Wl0XRVUHmi\n",
            "1510568488657571840 2022-04-03 10:42:47 +0000 <d96098988> 在庫復活😍  #iPhone13 Pro 128GB simフリー 端末本体のみ （楽天モバイル回線なし） 新品  #Apple お早めに👍   https://t.co/XiiZUi3d7S\n",
            "1510568447498805254 2022-04-03 10:42:37 +0000 <take12200625> 在庫復活😍  #iPhone13 Pro 128GB simフリー 端末本体のみ （楽天モバイル回線なし） 新品  #Apple お早めに👍   https://t.co/qEusBp9PMg\n",
            "1510565673659174914 2022-04-03 10:31:36 +0000 <2ndhopes> このアカウント（@2ndhopes）を フォロー&amp;このツイートをリツイートした方から 抽選で1名にiPhone13　グリーン　128gbをプレゼントします❗🔥🔥  皆さんご応募ください❗  #抽選　#ポイ活　#プレゼント　#paypay #iPhone13 #PayPayください #お金に困っています #懸賞  https://t.co/8Ojjs7MYmC\n",
            "1510565654180470792 2022-04-03 10:31:31 +0000 <0213_kojirena> 桜見てきた🌸   #ポートレート #桜 #iPhone13  #綺麗  https://t.co/sscXtkjRy1\n",
            "1510564130503147520 2022-04-03 10:25:28 +0000 <spb_iphone> Какой день лучший для покупки новенького #iphone13? Что думаешь?\n",
            "1510562912775307266 2022-04-03 10:20:37 +0000 <ponpontantan1> 楽天モバイルの『W突破記念キャンペーン』MNPとiPhone購入で３５,０００ポイント！！   https://t.co/CDSgUIraRk  #楽天モバイル #iPhone13 #ブログ #ブログ更新\n",
            "1510560808090030094 2022-04-03 10:12:16 +0000 <taihei1975> 底辺サラリーマンの散財動画。 低予算で必要最低限のモノを揃えました。  #apple ＃iPhone13  【小遣い1万円】底辺サラリーマンの揃えておきたいiPhone13シリーズ周辺機器3選+1  https://t.co/RN1WySVuz4\n",
            "1510560467541975041 2022-04-03 10:10:54 +0000 <yashinsondesu> 楽天モバイルを申し込む前に下記のエントリーをしてから申し込むとお得！  ✅スタートボーナス  ✅会員優待キャンペーン  ✅楽天pay還元キャンペーン  など。 #iPhone13 #iPhoneSE3 #OPPO   そのほかにも事前エントリー項目10個まとめてます  https://t.co/EERdiw6d4Q\n",
            "1510559623958634505 2022-04-03 10:07:33 +0000 <chpokech> 覚え書き  4月1日 夜 楽天モバイルiPhone13ピンク128GB在庫復活のタイミングで申し込み 回線契約セット ４００００円クーポン   4月3日 simカード、宅急便で到着   本体の連絡はまだ。 #楽天モバイル #iPhone13  #sim #届いた  本体届く前から月額発生？？\n"
          ]
        }
      ],
      "source": [
        "# calling the scraping function\n",
        "df=twint_search(date,search_string,numOfTweets)"
      ]
    },
    {
      "cell_type": "code",
      "execution_count": null,
      "metadata": {
        "id": "NwKcjyKii2Do",
        "outputId": "5212aac9-01df-4686-b917-e678174ee14a",
        "colab": {
          "base_uri": "https://localhost:8080/"
        }
      },
      "outputs": [
        {
          "output_type": "stream",
          "name": "stdout",
          "text": [
            "<class 'pandas.core.frame.DataFrame'>\n",
            "RangeIndex: 206 entries, 0 to 205\n",
            "Data columns (total 36 columns):\n",
            " #   Column           Non-Null Count  Dtype  \n",
            "---  ------           --------------  -----  \n",
            " 0   id               206 non-null    int64  \n",
            " 1   conversation_id  206 non-null    int64  \n",
            " 2   created_at       206 non-null    object \n",
            " 3   date             206 non-null    object \n",
            " 4   time             206 non-null    object \n",
            " 5   timezone         206 non-null    int64  \n",
            " 6   user_id          206 non-null    int64  \n",
            " 7   username         206 non-null    object \n",
            " 8   name             206 non-null    object \n",
            " 9   place            1 non-null      object \n",
            " 10  tweet            206 non-null    object \n",
            " 11  language         206 non-null    object \n",
            " 12  mentions         206 non-null    object \n",
            " 13  urls             206 non-null    object \n",
            " 14  photos           206 non-null    object \n",
            " 15  replies_count    206 non-null    int64  \n",
            " 16  retweets_count   206 non-null    int64  \n",
            " 17  likes_count      206 non-null    int64  \n",
            " 18  hashtags         206 non-null    object \n",
            " 19  cashtags         206 non-null    object \n",
            " 20  link             206 non-null    object \n",
            " 21  retweet          206 non-null    bool   \n",
            " 22  quote_url        9 non-null      object \n",
            " 23  video            206 non-null    int64  \n",
            " 24  thumbnail        75 non-null     object \n",
            " 25  near             0 non-null      float64\n",
            " 26  geo              0 non-null      float64\n",
            " 27  source           0 non-null      float64\n",
            " 28  user_rt_id       0 non-null      float64\n",
            " 29  user_rt          0 non-null      float64\n",
            " 30  retweet_id       0 non-null      float64\n",
            " 31  reply_to         206 non-null    object \n",
            " 32  retweet_date     0 non-null      float64\n",
            " 33  translate        0 non-null      float64\n",
            " 34  trans_src        0 non-null      float64\n",
            " 35  trans_dest       0 non-null      float64\n",
            "dtypes: bool(1), float64(10), int64(8), object(17)\n",
            "memory usage: 56.7+ KB\n"
          ]
        }
      ],
      "source": [
        "# checking the dataframe columns\n",
        "df.info()"
      ]
    },
    {
      "cell_type": "code",
      "execution_count": null,
      "metadata": {
        "id": "Gnwm2wQfi2Dp",
        "outputId": "2f6df71a-7279-4d98-975c-04a3f94620e8",
        "colab": {
          "base_uri": "https://localhost:8080/",
          "height": 35
        }
      },
      "outputs": [
        {
          "output_type": "execute_result",
          "data": {
            "text/plain": [
              "'楽天モバイルの『W突破記念キャンペーン』MNPとiPhone購入で35,000ポイント‼   https://t.co/CDSgUIraRk  #楽天モバイル #iPhone13 #ブログ #ブログ更新'"
            ],
            "application/vnd.google.colaboratory.intrinsic+json": {
              "type": "string"
            }
          },
          "metadata": {},
          "execution_count": 15
        }
      ],
      "source": [
        "# printing a tweet as an example\n",
        "df['tweet'][17]"
      ]
    },
    {
      "cell_type": "code",
      "source": [
        "collected_data=df # renaming"
      ],
      "metadata": {
        "id": "A-mwSN9Q47PI"
      },
      "execution_count": null,
      "outputs": []
    },
    {
      "cell_type": "markdown",
      "source": [
        "## Read collected data"
      ],
      "metadata": {
        "id": "GNAZYaYo4AVS"
      }
    },
    {
      "cell_type": "code",
      "execution_count": null,
      "metadata": {
        "id": "WcbuQMNRi2Dq"
      },
      "outputs": [],
      "source": [
        "collected_data = pd.read_csv(\"/content/drive/MyDrive/scrapped_data/\"+default_search_string+\"_\"+default_date+\".csv\") # reading the dataset after scraping and saving it "
      ]
    },
    {
      "cell_type": "markdown",
      "source": [
        "## Cleaning Data (step 2 - week 2)\n",
        "In this step you can either go through the code step by step (run each cell) and clean the data you have scrapped or read, or you can skip the cleaning part and go straight to the part with the name (read cleaned data) which will read a file with cleaned data ( a data we have already scrapped from twitter and cleaned it through the following cleaning pipeline)"
      ],
      "metadata": {
        "id": "T9oWzflXnyEZ"
      }
    },
    {
      "cell_type": "code",
      "execution_count": null,
      "metadata": {
        "id": "T9RuhYk7i2Dn"
      },
      "outputs": [],
      "source": [
        "nlp = spacy.load('en_core_web_sm')  # English pipeline optimized for CPU. Components: tok2vec, tagger, parser, senter, ner, attribute_ruler, lemmatizer.\n",
        "#stop_words = set(stopwords.words('english')) #Uploading Stopwords\n",
        "#words = set(nltk.corpus.words.words()) # set of english words\n",
        "spell = SpellChecker() \n",
        "table = str.maketrans('', '', string.punctuation) # table to delete the punctuation from the texts by using string library"
      ]
    },
    {
      "cell_type": "code",
      "execution_count": null,
      "metadata": {
        "id": "xAq5xRTPi2Dq"
      },
      "outputs": [],
      "source": [
        "tweets=collected_data[\"tweet\"].values.tolist() # tweets list contains the scraped tweets"
      ]
    },
    {
      "cell_type": "code",
      "execution_count": null,
      "metadata": {
        "id": "OUE5Cnxki2Dr"
      },
      "outputs": [],
      "source": [
        "def cleaning(text): \n",
        "    # Replacing emojis with their describtion\n",
        "    # print(text)\n",
        "    #no_emoji=demoji.replace_with_desc(text,\" \") \n",
        "    no_at = re.sub(\"@[A-Za-z0-9]+\",\"\",text) #Remove @ sign\n",
        "    no_link = re.sub(r\"(?:\\@|http?\\://|https?\\://|www)\\S+\", \"\", no_at) #Remove http links\n",
        "    no_hashtag = no_link.replace(\"#\", \"\").replace(\"_\", \" \") #Remove hashtag sign but keep the text\n",
        "    no_asci=re.sub(r'[^\\x00-\\x7f]',r' ',no_hashtag) #non asci\n",
        "    no_punc=no_asci.translate(table) #delete punctuals\n",
        "    #tweet = \" \".join(w for w in nltk.wordpunct_tokenize(no_punc) #  splitting the tweet into tokens\n",
        "    #     if w.lower() in words and w.isalpha())\n",
        "    return no_punc"
      ]
    },
    {
      "cell_type": "code",
      "execution_count": null,
      "metadata": {
        "id": "-Y6YgsdHi2Ds"
      },
      "outputs": [],
      "source": [
        "def spell_checking(text):\n",
        "    # Fixing Word Lengthening, which occurs when characters are wrongly repeated. \n",
        "    # English words have a max of two repeated characters. Additional characters need to ripped off, \n",
        "    pattern = re.compile(r\"(.)\\1{2,}\")\n",
        "    length_fixed= pattern.sub(r\"\\1\\1\", text)\n",
        "    tweet = \" \".join(w if (w[0].isupper()) else spell.correction(w) for w in nltk.wordpunct_tokenize(length_fixed) )\n",
        "    return(tweet)"
      ]
    },
    {
      "cell_type": "code",
      "execution_count": null,
      "metadata": {
        "id": "C0tZTIM-i2Dt"
      },
      "outputs": [],
      "source": [
        "def nlp_analyzing(text):    \n",
        "    doc = nlp(text)\n",
        "    lemmas = []\n",
        "    for token in doc:\n",
        "        if token.lang_ == 'en' and token.pos_ != 'SPACE' : #and token.text not in STOP_WORDS:\n",
        "            if token.ent_type_!=\"\":  # if the token is recognized as a Name Entity\n",
        "                lemmas.append(token.text)\n",
        "            else: # token.text.lower() in words: #Checking if the word is in the dictionary (meaningful english world)\n",
        "                lemmas.append(token.lemma_)\n",
        "    return ' '.join(lemmas)"
      ]
    },
    {
      "cell_type": "code",
      "execution_count": null,
      "metadata": {
        "id": "JwNoE-jHi2Dt"
      },
      "outputs": [],
      "source": [
        "def clean(data): # Data Cleaning pipeline\n",
        "    cleaned_data=[nlp_analyzing(cleaning(x)) for x in data]\n",
        "    return cleaned_data\n",
        "    #return data.apply(lambda x : nlp_analyzing(spell_checking(cleaning(x))))"
      ]
    },
    {
      "cell_type": "code",
      "execution_count": null,
      "metadata": {
        "id": "3Y8YHPtLi2Dw",
        "outputId": "93ea10fb-12b9-4e68-be61-cd3c652c5516",
        "colab": {
          "base_uri": "https://localhost:8080/",
          "height": 35
        }
      },
      "outputs": [
        {
          "output_type": "execute_result",
          "data": {
            "text/plain": [
              "'#iPhone13 の機種変更時に下取りしてもらえなかったiPhone買い取り致します。壊れていても高額買取致します。'"
            ],
            "application/vnd.google.colaboratory.intrinsic+json": {
              "type": "string"
            }
          },
          "metadata": {},
          "execution_count": 24
        }
      ],
      "source": [
        "tweets[0] # printing a tweet before cleaning it"
      ]
    },
    {
      "cell_type": "code",
      "source": [
        "tweets[17] # printing a tweet before cleaning it"
      ],
      "metadata": {
        "colab": {
          "base_uri": "https://localhost:8080/",
          "height": 35
        },
        "id": "VZ7cPDdHvigv",
        "outputId": "de109948-6a86-49af-8c92-18272e65e7aa"
      },
      "execution_count": null,
      "outputs": [
        {
          "output_type": "execute_result",
          "data": {
            "text/plain": [
              "'楽天モバイルの『W突破記念キャンペーン』MNPとiPhone購入で35,000ポイント‼   https://t.co/CDSgUIraRk  #楽天モバイル #iPhone13 #ブログ #ブログ更新'"
            ],
            "application/vnd.google.colaboratory.intrinsic+json": {
              "type": "string"
            }
          },
          "metadata": {},
          "execution_count": 25
        }
      ]
    },
    {
      "cell_type": "code",
      "execution_count": null,
      "metadata": {
        "id": "Orz4PcAji2Dx",
        "outputId": "18a28382-6b7c-499a-dedb-5acb63a81c41",
        "colab": {
          "base_uri": "https://localhost:8080/",
          "height": 35
        }
      },
      "outputs": [
        {
          "output_type": "execute_result",
          "data": {
            "text/plain": [
              "'iphone iPhone'"
            ],
            "application/vnd.google.colaboratory.intrinsic+json": {
              "type": "string"
            }
          },
          "metadata": {},
          "execution_count": 26
        }
      ],
      "source": [
        "nlp_analyzing(spell_checking(cleaning(tweets[0]))) # cleaning the same tweet and printing it"
      ]
    },
    {
      "cell_type": "code",
      "execution_count": null,
      "metadata": {
        "id": "nGFIVnMFi2Dx"
      },
      "outputs": [],
      "source": [
        "cleaned=clean(tweets) # cleaning the tweets"
      ]
    },
    {
      "cell_type": "code",
      "execution_count": null,
      "metadata": {
        "id": "7jUTg5sSi2Dx",
        "outputId": "c647b458-f30c-40b1-9a00-5828f09982d7",
        "colab": {
          "base_uri": "https://localhost:8080/"
        }
      },
      "outputs": [
        {
          "output_type": "execute_result",
          "data": {
            "text/plain": [
              "206"
            ]
          },
          "metadata": {},
          "execution_count": 28
        }
      ],
      "source": [
        "len(cleaned) #checking the number of tweets"
      ]
    },
    {
      "cell_type": "markdown",
      "source": [
        "## Read cleaned data\n",
        "you can skip this part if you would like to complete with the data you have scrapped"
      ],
      "metadata": {
        "id": "tHnYl1KF4lcO"
      }
    },
    {
      "cell_type": "code",
      "source": [
        "file_name=\"/content/drive/MyDrive/cleaned_data/\"+default_search_string+\"_\"+default_date+\".txt\""
      ],
      "metadata": {
        "id": "OMiI7B_B6iY7"
      },
      "execution_count": null,
      "outputs": []
    },
    {
      "cell_type": "code",
      "source": [
        "data = pd.read_csv(file_name, sep=\"\\n\", header=None)\n",
        "#data.columns = [\"a\", \"b\", \"c\", \"etc.\"]"
      ],
      "metadata": {
        "id": "CXj5r4uL4pVu"
      },
      "execution_count": null,
      "outputs": []
    },
    {
      "cell_type": "code",
      "source": [
        "cleaned=data.values.tolist()"
      ],
      "metadata": {
        "id": "V3Q4jWXf67v5"
      },
      "execution_count": null,
      "outputs": []
    },
    {
      "cell_type": "markdown",
      "source": [
        "## Printing word cloud after cleaning the data"
      ],
      "metadata": {
        "id": "mNkhzZvLoJhx"
      }
    },
    {
      "cell_type": "code",
      "execution_count": null,
      "metadata": {
        "id": "NkbE6mWZi2Dx",
        "outputId": "0293bab4-8665-490f-fe18-2d776f7e925d",
        "colab": {
          "base_uri": "https://localhost:8080/",
          "height": 198
        }
      },
      "outputs": [
        {
          "output_type": "display_data",
          "data": {
            "text/plain": [
              "<Figure size 432x288 with 1 Axes>"
            ],
            "image/png": "[encoded data removed]"
          },
          "metadata": {
            "needs_background": "light"
          }
        }
      ],
      "source": [
        "import matplotlib.pyplot as plt\n",
        "from wordcloud import WordCloud\n",
        "# plotting a word cloud of positive mentions of iPhone13 in the tweets\n",
        "wordcloud = WordCloud(max_font_size=50, max_words=100, background_color=\"white\").generate(str(cleaned))\n",
        "plt.figure()\n",
        "plt.imshow(wordcloud, interpolation=\"bilinear\")\n",
        "plt.axis(\"off\")\n",
        "plt.show()"
      ]
    },
    {
      "cell_type": "markdown",
      "source": [
        "## saving cleaned data\n",
        "you can skip this part if you have not scrapped new data, or if youhave scrapped new data and you do not wish to save it"
      ],
      "metadata": {
        "id": "AdBSMZvk7Ou1"
      }
    },
    {
      "cell_type": "code",
      "execution_count": null,
      "metadata": {
        "id": "lJ04b0u-i2Dy"
      },
      "outputs": [],
      "source": [
        "# writing the results to a file \n",
        "with open(\"/content/drive/MyDrive/cleaned_data/\"+search_string+\"_\"+date+\".txt\", 'w') as f:\n",
        "    for item in cleaned:\n",
        "        f.write(\"%s\\n\" % item)"
      ]
    },
    {
      "cell_type": "markdown",
      "source": [
        "## Creating RNN model for sentiment analysis. (step 3&4 - week 3&4)"
      ],
      "metadata": {
        "id": "1occjgHkq07R"
      }
    },
    {
      "cell_type": "markdown",
      "source": [
        "### Reading data to be used as training and testing data, there is no need to run the following cells in this part, since the model is already trained and we will load it and use it for prediction"
      ],
      "metadata": {
        "id": "9tYRWsWW8SBd"
      }
    },
    {
      "cell_type": "markdown",
      "source": [
        "creating a class to build a RNN (LSTM) model to predict sentamic "
      ],
      "metadata": {
        "id": "UhEOOhsoK3gL"
      }
    },
    {
      "cell_type": "code",
      "source": [
        "# training dataset can be found at: https://www.kaggle.com/datasets/cosmos98/twitter-and-reddit-sentimental-analysis-dataset\n",
        "df = pd.read_csv('/content/drive/MyDrive/Data_for_training/Twitter_Data.csv')"
      ],
      "metadata": {
        "id": "bo3_5kW1KzKF"
      },
      "execution_count": null,
      "outputs": []
    },
    {
      "cell_type": "code",
      "source": [
        "df.head()"
      ],
      "metadata": {
        "colab": {
          "base_uri": "https://localhost:8080/",
          "height": 206
        },
        "id": "sF1BiNzhNHtW",
        "outputId": "eafc6328-065b-4cc6-bc0a-e5f9278cbfa2"
      },
      "execution_count": null,
      "outputs": [
        {
          "output_type": "execute_result",
          "data": {
            "text/plain": [
              "                                          clean_text  category\n",
              "0  when modi promised “minimum government maximum...      -1.0\n",
              "1  talk all the nonsense and continue all the dra...       0.0\n",
              "2  what did just say vote for modi  welcome bjp t...       1.0\n",
              "3  asking his supporters prefix chowkidar their n...       1.0\n",
              "4  answer who among these the most powerful world...       1.0"
            ],
            "text/html": [
              "\n",
              "  <div id=\"df-cc3b5847-043b-496d-a302-c95a1eb37212\">\n",
              "    <div class=\"colab-df-container\">\n",
              "      <div>\n",
              "<style scoped>\n",
              "    .dataframe tbody tr th:only-of-type {\n",
              "        vertical-align: middle;\n",
              "    }\n",
              "\n",
              "    .dataframe tbody tr th {\n",
              "        vertical-align: top;\n",
              "    }\n",
              "\n",
              "    .dataframe thead th {\n",
              "        text-align: right;\n",
              "    }\n",
              "</style>\n",
              "<table border=\"1\" class=\"dataframe\">\n",
              "  <thead>\n",
              "    <tr style=\"text-align: right;\">\n",
              "      <th></th>\n",
              "      <th>clean_text</th>\n",
              "      <th>category</th>\n",
              "    </tr>\n",
              "  </thead>\n",
              "  <tbody>\n",
              "    <tr>\n",
              "      <th>0</th>\n",
              "      <td>when modi promised “minimum government maximum...</td>\n",
              "      <td>-1.0</td>\n",
              "    </tr>\n",
              "    <tr>\n",
              "      <th>1</th>\n",
              "      <td>talk all the nonsense and continue all the dra...</td>\n",
              "      <td>0.0</td>\n",
              "    </tr>\n",
              "    <tr>\n",
              "      <th>2</th>\n",
              "      <td>what did just say vote for modi  welcome bjp t...</td>\n",
              "      <td>1.0</td>\n",
              "    </tr>\n",
              "    <tr>\n",
              "      <th>3</th>\n",
              "      <td>asking his supporters prefix chowkidar their n...</td>\n",
              "      <td>1.0</td>\n",
              "    </tr>\n",
              "    <tr>\n",
              "      <th>4</th>\n",
              "      <td>answer who among these the most powerful world...</td>\n",
              "      <td>1.0</td>\n",
              "    </tr>\n",
              "  </tbody>\n",
              "</table>\n",
              "</div>\n",
              "      <button class=\"colab-df-convert\" onclick=\"convertToInteractive('df-cc3b5847-043b-496d-a302-c95a1eb37212')\"\n",
              "              title=\"Convert this dataframe to an interactive table.\"\n",
              "              style=\"display:none;\">\n",
              "        \n",
              "  <svg xmlns=\"http://www.w3.org/2000/svg\" height=\"24px\"viewBox=\"0 0 24 24\"\n",
              "       width=\"24px\">\n",
              "    <path d=\"M0 0h24v24H0V0z\" fill=\"none\"/>\n",
              "    <path d=\"M18.56 5.44l.94 2.06.94-2.06 2.06-.94-2.06-.94-.94-2.06-.94 2.06-2.06.94zm-11 1L8.5 8.5l.94-2.06 2.06-.94-2.06-.94L8.5 2.5l-.94 2.06-2.06.94zm10 10l.94 2.06.94-2.06 2.06-.94-2.06-.94-.94-2.06-.94 2.06-2.06.94z\"/><path d=\"M17.41 7.96l-1.37-1.37c-.4-.4-.92-.59-1.43-.59-.52 0-1.04.2-1.43.59L10.3 9.45l-7.72 7.72c-.78.78-.78 2.05 0 2.83L4 21.41c.39.39.9.59 1.41.59.51 0 1.02-.2 1.41-.59l7.78-7.78 2.81-2.81c.8-.78.8-2.07 0-2.86zM5.41 20L4 18.59l7.72-7.72 1.47 1.35L5.41 20z\"/>\n",
              "  </svg>\n",
              "      </button>\n",
              "      \n",
              "  <style>\n",
              "    .colab-df-container {\n",
              "      display:flex;\n",
              "      flex-wrap:wrap;\n",
              "      gap: 12px;\n",
              "    }\n",
              "\n",
              "    .colab-df-convert {\n",
              "      background-color: #E8F0FE;\n",
              "      border: none;\n",
              "      border-radius: 50%;\n",
              "      cursor: pointer;\n",
              "      display: none;\n",
              "      fill: #1967D2;\n",
              "      height: 32px;\n",
              "      padding: 0 0 0 0;\n",
              "      width: 32px;\n",
              "    }\n",
              "\n",
              "    .colab-df-convert:hover {\n",
              "      background-color: #E2EBFA;\n",
              "      box-shadow: 0px 1px 2px rgba(60, 64, 67, 0.3), 0px 1px 3px 1px rgba(60, 64, 67, 0.15);\n",
              "      fill: #174EA6;\n",
              "    }\n",
              "\n",
              "    [theme=dark] .colab-df-convert {\n",
              "      background-color: #3B4455;\n",
              "      fill: #D2E3FC;\n",
              "    }\n",
              "\n",
              "    [theme=dark] .colab-df-convert:hover {\n",
              "      background-color: #434B5C;\n",
              "      box-shadow: 0px 1px 3px 1px rgba(0, 0, 0, 0.15);\n",
              "      filter: drop-shadow(0px 1px 2px rgba(0, 0, 0, 0.3));\n",
              "      fill: #FFFFFF;\n",
              "    }\n",
              "  </style>\n",
              "\n",
              "      <script>\n",
              "        const buttonEl =\n",
              "          document.querySelector('#df-cc3b5847-043b-496d-a302-c95a1eb37212 button.colab-df-convert');\n",
              "        buttonEl.style.display =\n",
              "          google.colab.kernel.accessAllowed ? 'block' : 'none';\n",
              "\n",
              "        async function convertToInteractive(key) {\n",
              "          const element = document.querySelector('#df-cc3b5847-043b-496d-a302-c95a1eb37212');\n",
              "          const dataTable =\n",
              "            await google.colab.kernel.invokeFunction('convertToInteractive',\n",
              "                                                     [key], {});\n",
              "          if (!dataTable) return;\n",
              "\n",
              "          const docLinkHtml = 'Like what you see? Visit the ' +\n",
              "            '<a target=\"_blank\" href=https://colab.research.google.com/notebooks/data_table.ipynb>data table notebook</a>'\n",
              "            + ' to learn more about interactive tables.';\n",
              "          element.innerHTML = '';\n",
              "          dataTable['output_type'] = 'display_data';\n",
              "          await google.colab.output.renderOutput(dataTable, element);\n",
              "          const docLink = document.createElement('div');\n",
              "          docLink.innerHTML = docLinkHtml;\n",
              "          element.appendChild(docLink);\n",
              "        }\n",
              "      </script>\n",
              "    </div>\n",
              "  </div>\n",
              "  "
            ]
          },
          "metadata": {},
          "execution_count": 52
        }
      ]
    },
    {
      "cell_type": "code",
      "source": [
        "df.shape # checking the shape of the dataset"
      ],
      "metadata": {
        "colab": {
          "base_uri": "https://localhost:8080/"
        },
        "id": "fjwHU_4lTYwK",
        "outputId": "5e1d7554-af65-4f85-8c9b-280284e17095"
      },
      "execution_count": null,
      "outputs": [
        {
          "output_type": "execute_result",
          "data": {
            "text/plain": [
              "(162980, 2)"
            ]
          },
          "metadata": {},
          "execution_count": 53
        }
      ]
    },
    {
      "cell_type": "code",
      "source": [
        "df=df.dropna() #dropping all none rows"
      ],
      "metadata": {
        "id": "wY3oOeykTbTq"
      },
      "execution_count": null,
      "outputs": []
    },
    {
      "cell_type": "code",
      "source": [
        "df.shape   # checking the shape of the dataset after checking the shape of the dataset"
      ],
      "metadata": {
        "colab": {
          "base_uri": "https://localhost:8080/"
        },
        "id": "gc93aTkVThU1",
        "outputId": "d803e476-a0e5-4a50-a87a-3595393e4767"
      },
      "execution_count": null,
      "outputs": [
        {
          "output_type": "execute_result",
          "data": {
            "text/plain": [
              "(162969, 2)"
            ]
          },
          "metadata": {},
          "execution_count": 55
        }
      ]
    },
    {
      "cell_type": "code",
      "source": [
        "df['clean_text']=clean(df['clean_text']) #cleaning the data (it is expected to consume time)"
      ],
      "metadata": {
        "id": "tppeuE13YtAz"
      },
      "execution_count": null,
      "outputs": []
    },
    {
      "cell_type": "code",
      "source": [
        "df.head() #printing five rows of the cleaned data"
      ],
      "metadata": {
        "colab": {
          "base_uri": "https://localhost:8080/",
          "height": 206
        },
        "id": "xA_mIkg0iwsY",
        "outputId": "3fcd6e7c-a60a-43d2-c32c-8addb0853606"
      },
      "execution_count": null,
      "outputs": [
        {
          "output_type": "execute_result",
          "data": {
            "text/plain": [
              "                                          clean_text  category\n",
              "0  when modi promised “minimum government maximum...      -1.0\n",
              "1  talk all the nonsense and continue all the dra...       0.0\n",
              "2  what did just say vote for modi  welcome bjp t...       1.0\n",
              "3  asking his supporters prefix chowkidar their n...       1.0\n",
              "4  answer who among these the most powerful world...       1.0"
            ],
            "text/html": [
              "\n",
              "  <div id=\"df-4c1eb5f4-158a-4549-80d1-8206d94cfb70\">\n",
              "    <div class=\"colab-df-container\">\n",
              "      <div>\n",
              "<style scoped>\n",
              "    .dataframe tbody tr th:only-of-type {\n",
              "        vertical-align: middle;\n",
              "    }\n",
              "\n",
              "    .dataframe tbody tr th {\n",
              "        vertical-align: top;\n",
              "    }\n",
              "\n",
              "    .dataframe thead th {\n",
              "        text-align: right;\n",
              "    }\n",
              "</style>\n",
              "<table border=\"1\" class=\"dataframe\">\n",
              "  <thead>\n",
              "    <tr style=\"text-align: right;\">\n",
              "      <th></th>\n",
              "      <th>clean_text</th>\n",
              "      <th>category</th>\n",
              "    </tr>\n",
              "  </thead>\n",
              "  <tbody>\n",
              "    <tr>\n",
              "      <th>0</th>\n",
              "      <td>when modi promised “minimum government maximum...</td>\n",
              "      <td>-1.0</td>\n",
              "    </tr>\n",
              "    <tr>\n",
              "      <th>1</th>\n",
              "      <td>talk all the nonsense and continue all the dra...</td>\n",
              "      <td>0.0</td>\n",
              "    </tr>\n",
              "    <tr>\n",
              "      <th>2</th>\n",
              "      <td>what did just say vote for modi  welcome bjp t...</td>\n",
              "      <td>1.0</td>\n",
              "    </tr>\n",
              "    <tr>\n",
              "      <th>3</th>\n",
              "      <td>asking his supporters prefix chowkidar their n...</td>\n",
              "      <td>1.0</td>\n",
              "    </tr>\n",
              "    <tr>\n",
              "      <th>4</th>\n",
              "      <td>answer who among these the most powerful world...</td>\n",
              "      <td>1.0</td>\n",
              "    </tr>\n",
              "  </tbody>\n",
              "</table>\n",
              "</div>\n",
              "      <button class=\"colab-df-convert\" onclick=\"convertToInteractive('df-4c1eb5f4-158a-4549-80d1-8206d94cfb70')\"\n",
              "              title=\"Convert this dataframe to an interactive table.\"\n",
              "              style=\"display:none;\">\n",
              "        \n",
              "  <svg xmlns=\"http://www.w3.org/2000/svg\" height=\"24px\"viewBox=\"0 0 24 24\"\n",
              "       width=\"24px\">\n",
              "    <path d=\"M0 0h24v24H0V0z\" fill=\"none\"/>\n",
              "    <path d=\"M18.56 5.44l.94 2.06.94-2.06 2.06-.94-2.06-.94-.94-2.06-.94 2.06-2.06.94zm-11 1L8.5 8.5l.94-2.06 2.06-.94-2.06-.94L8.5 2.5l-.94 2.06-2.06.94zm10 10l.94 2.06.94-2.06 2.06-.94-2.06-.94-.94-2.06-.94 2.06-2.06.94z\"/><path d=\"M17.41 7.96l-1.37-1.37c-.4-.4-.92-.59-1.43-.59-.52 0-1.04.2-1.43.59L10.3 9.45l-7.72 7.72c-.78.78-.78 2.05 0 2.83L4 21.41c.39.39.9.59 1.41.59.51 0 1.02-.2 1.41-.59l7.78-7.78 2.81-2.81c.8-.78.8-2.07 0-2.86zM5.41 20L4 18.59l7.72-7.72 1.47 1.35L5.41 20z\"/>\n",
              "  </svg>\n",
              "      </button>\n",
              "      \n",
              "  <style>\n",
              "    .colab-df-container {\n",
              "      display:flex;\n",
              "      flex-wrap:wrap;\n",
              "      gap: 12px;\n",
              "    }\n",
              "\n",
              "    .colab-df-convert {\n",
              "      background-color: #E8F0FE;\n",
              "      border: none;\n",
              "      border-radius: 50%;\n",
              "      cursor: pointer;\n",
              "      display: none;\n",
              "      fill: #1967D2;\n",
              "      height: 32px;\n",
              "      padding: 0 0 0 0;\n",
              "      width: 32px;\n",
              "    }\n",
              "\n",
              "    .colab-df-convert:hover {\n",
              "      background-color: #E2EBFA;\n",
              "      box-shadow: 0px 1px 2px rgba(60, 64, 67, 0.3), 0px 1px 3px 1px rgba(60, 64, 67, 0.15);\n",
              "      fill: #174EA6;\n",
              "    }\n",
              "\n",
              "    [theme=dark] .colab-df-convert {\n",
              "      background-color: #3B4455;\n",
              "      fill: #D2E3FC;\n",
              "    }\n",
              "\n",
              "    [theme=dark] .colab-df-convert:hover {\n",
              "      background-color: #434B5C;\n",
              "      box-shadow: 0px 1px 3px 1px rgba(0, 0, 0, 0.15);\n",
              "      filter: drop-shadow(0px 1px 2px rgba(0, 0, 0, 0.3));\n",
              "      fill: #FFFFFF;\n",
              "    }\n",
              "  </style>\n",
              "\n",
              "      <script>\n",
              "        const buttonEl =\n",
              "          document.querySelector('#df-4c1eb5f4-158a-4549-80d1-8206d94cfb70 button.colab-df-convert');\n",
              "        buttonEl.style.display =\n",
              "          google.colab.kernel.accessAllowed ? 'block' : 'none';\n",
              "\n",
              "        async function convertToInteractive(key) {\n",
              "          const element = document.querySelector('#df-4c1eb5f4-158a-4549-80d1-8206d94cfb70');\n",
              "          const dataTable =\n",
              "            await google.colab.kernel.invokeFunction('convertToInteractive',\n",
              "                                                     [key], {});\n",
              "          if (!dataTable) return;\n",
              "\n",
              "          const docLinkHtml = 'Like what you see? Visit the ' +\n",
              "            '<a target=\"_blank\" href=https://colab.research.google.com/notebooks/data_table.ipynb>data table notebook</a>'\n",
              "            + ' to learn more about interactive tables.';\n",
              "          element.innerHTML = '';\n",
              "          dataTable['output_type'] = 'display_data';\n",
              "          await google.colab.output.renderOutput(dataTable, element);\n",
              "          const docLink = document.createElement('div');\n",
              "          docLink.innerHTML = docLinkHtml;\n",
              "          element.appendChild(docLink);\n",
              "        }\n",
              "      </script>\n",
              "    </div>\n",
              "  </div>\n",
              "  "
            ]
          },
          "metadata": {},
          "execution_count": 57
        }
      ]
    },
    {
      "cell_type": "code",
      "source": [
        "df_no_neutral = df[df.category != 0] # the data has 3 sentiment values [-1,0,1] we are droppping the rows with neutral sentiment for better training the model"
      ],
      "metadata": {
        "id": "2CbEztFVvLSa"
      },
      "execution_count": null,
      "outputs": []
    },
    {
      "cell_type": "code",
      "source": [
        "df_no_neutral.shape   #cheking the number of rows in the data"
      ],
      "metadata": {
        "colab": {
          "base_uri": "https://localhost:8080/"
        },
        "id": "kpTHUWNLvS5q",
        "outputId": "49ab07b9-fbae-4ad4-b29b-cfcb28893ba0"
      },
      "execution_count": null,
      "outputs": [
        {
          "output_type": "execute_result",
          "data": {
            "text/plain": [
              "(107758, 2)"
            ]
          },
          "metadata": {},
          "execution_count": 59
        }
      ]
    },
    {
      "cell_type": "code",
      "source": [
        "df_no_neutral.to_csv('/content/drive/MyDrive/Data_for_training/Cleaned_Twitter_Data.csv')  #saving the cleaned data"
      ],
      "metadata": {
        "id": "hEYMSc5-Ef8y"
      },
      "execution_count": null,
      "outputs": []
    },
    {
      "cell_type": "markdown",
      "source": [
        "### Defining and training the model\n",
        "the following cells should not be runned (please do not try to train the model again unless you have time to wait for it to finish, by time I mean at least aan hour at least), the training consumes alot of time and the model is already trained. Please skip to the part named (load trained model) to load the model. "
      ],
      "metadata": {
        "id": "Qf9H85139pMX"
      }
    },
    {
      "cell_type": "code",
      "source": [
        "vocabSize=1500\n",
        "tokenizer = Tokenizer(num_words=1500, split=' ')\n",
        "tokenizer.fit_on_texts(df_no_neutral['clean_text'].values)\n",
        "X = tokenizer.texts_to_sequences(df_no_neutral['clean_text'])\n",
        "X = pad_sequences(X)"
      ],
      "metadata": {
        "id": "7NMm06i_ahCq"
      },
      "execution_count": null,
      "outputs": []
    },
    {
      "cell_type": "code",
      "source": [
        "embed_dim = 128\n",
        "vocabSize=1500\n",
        "lstm_out = 196\n",
        "\n",
        "model = Sequential()\n",
        "model.add(Embedding(vocabSize, embed_dim,input_length = 34))\n",
        "model.add(LSTM(lstm_out, dropout=0.2, recurrent_dropout=0.2))\n",
        "model.add(Dense(2,activation='softmax'))\n",
        "model.add(Flatten())\n",
        "model.compile(loss = 'binary_crossentropy', optimizer='adam',metrics = ['accuracy'])"
      ],
      "metadata": {
        "id": "FcXnukgljAUO"
      },
      "execution_count": null,
      "outputs": []
    },
    {
      "cell_type": "code",
      "source": [
        "model.summary()"
      ],
      "metadata": {
        "id": "47v6OnV_msRV"
      },
      "execution_count": null,
      "outputs": []
    },
    {
      "cell_type": "code",
      "source": [
        "df['category'].shape"
      ],
      "metadata": {
        "id": "CuhD3he1lwsi"
      },
      "execution_count": null,
      "outputs": []
    },
    {
      "cell_type": "code",
      "source": [
        "# splitting the data \n",
        "X_train, X_test, y_train, y_test = train_test_split(X,df_no_neutral['category'], test_size = 0.15, random_state = 42)\n"
      ],
      "metadata": {
        "id": "M4Clz_HCkEzp"
      },
      "execution_count": null,
      "outputs": []
    },
    {
      "cell_type": "code",
      "source": [
        "X_train.shape"
      ],
      "metadata": {
        "id": "GqzIQiUqmEgT"
      },
      "execution_count": null,
      "outputs": []
    },
    {
      "cell_type": "code",
      "source": [
        "X_test.shape"
      ],
      "metadata": {
        "id": "jJYaznhTmJK7"
      },
      "execution_count": null,
      "outputs": []
    },
    {
      "cell_type": "code",
      "source": [
        "\n",
        "# training\n",
        "model.fit(X_train, y_train,validation_data = (X_test,y_test),epochs = 10, batch_size=32)"
      ],
      "metadata": {
        "id": "H-PF_x1hlCzf"
      },
      "execution_count": null,
      "outputs": []
    },
    {
      "cell_type": "code",
      "source": [
        "# saving the trained model\n",
        "model.save(\"/content/drive/MyDrive/trained_1\")"
      ],
      "metadata": {
        "id": "S3i3aNDvm38e"
      },
      "execution_count": null,
      "outputs": []
    },
    {
      "cell_type": "code",
      "source": [
        "# evaluating the trained model\n",
        "model.evaluate(X_test,y_test)"
      ],
      "metadata": {
        "id": "mfwqxbeTGR0Y"
      },
      "execution_count": null,
      "outputs": []
    },
    {
      "cell_type": "code",
      "source": [
        "# predicting\n",
        "print(\"Prediction: \", model.predict(X_test[5:10]))\n",
        "print(\"Actual: \\n\",y_test[5:10])"
      ],
      "metadata": {
        "id": "ahwTsfdiGWjt"
      },
      "execution_count": null,
      "outputs": []
    },
    {
      "cell_type": "markdown",
      "source": [
        "## load trained model"
      ],
      "metadata": {
        "id": "bBRyItZXDVYF"
      }
    },
    {
      "cell_type": "code",
      "source": [
        "for_predicting=cleaned[5:10] # five tweets to analyze sentiments, for example only"
      ],
      "metadata": {
        "id": "ZABX41fxDvAq"
      },
      "execution_count": null,
      "outputs": []
    },
    {
      "cell_type": "code",
      "source": [
        "vocabSize=1500\n",
        "tokenizer = Tokenizer(num_words=1500, split=' ')\n",
        "tokenizer.fit_on_texts(for_predicting)\n",
        "X = tokenizer.texts_to_sequences(for_predicting)\n",
        "X = pad_sequences(X,maxlen=34)\n",
        "embed_dim = 128\n",
        "vocabSize=1500\n",
        "lstm_out = 196\n",
        "\n",
        "model = Sequential()\n",
        "model.add(Embedding(vocabSize, embed_dim,input_length = 34))\n",
        "model.add(LSTM(lstm_out, dropout=0.2, recurrent_dropout=0.2))\n",
        "model.add(Dense(2,activation='softmax'))\n",
        "model.add(Flatten())\n",
        "model.compile(loss = 'binary_crossentropy', optimizer='adam',metrics = ['accuracy'])\n",
        "\n"
      ],
      "metadata": {
        "id": "NV0Q2j4Ax9ho"
      },
      "execution_count": null,
      "outputs": []
    },
    {
      "cell_type": "code",
      "source": [
        "from keras.models import load_model \n",
        "model=load_model(\"/content/drive/MyDrive/trained_1\")"
      ],
      "metadata": {
        "id": "9IKw-HZ8I66r"
      },
      "execution_count": null,
      "outputs": []
    },
    {
      "cell_type": "code",
      "source": [
        "# predicting\n",
        "print(\"Prediction: \", model.predict(X)) # printing probabilites of each class [-1,1]"
      ],
      "metadata": {
        "id": "9InC5646xCNB",
        "colab": {
          "base_uri": "https://localhost:8080/"
        },
        "outputId": "fcda1958-3800-4b98-d309-fe3e45da55c4"
      },
      "execution_count": null,
      "outputs": [
        {
          "output_type": "stream",
          "name": "stdout",
          "text": [
            "Prediction:  [[0.49999613 0.5000039 ]\n",
            " [0.49999073 0.50000924]\n",
            " [0.49999115 0.5000088 ]\n",
            " [0.49999386 0.5000062 ]\n",
            " [0.49998558 0.5000144 ]]\n"
          ]
        }
      ]
    },
    {
      "cell_type": "code",
      "source": [
        "y_predict = np.argmax(model.predict(X), axis=-1)"
      ],
      "metadata": {
        "id": "j1a4Vy3EC0qf"
      },
      "execution_count": null,
      "outputs": []
    },
    {
      "cell_type": "code",
      "source": [
        "y_predict #predicting the class of each tweet"
      ],
      "metadata": {
        "id": "K9LhvfYODB4l",
        "colab": {
          "base_uri": "https://localhost:8080/"
        },
        "outputId": "c19907db-7dfe-47c1-9670-44517c16608f"
      },
      "execution_count": null,
      "outputs": [
        {
          "output_type": "execute_result",
          "data": {
            "text/plain": [
              "array([1, 1, 1, 1, 1])"
            ]
          },
          "metadata": {},
          "execution_count": 41
        }
      ]
    },
    {
      "cell_type": "code",
      "source": [
        ""
      ],
      "metadata": {
        "id": "5fzHyT0rQzT-"
      },
      "execution_count": null,
      "outputs": []
    }
  ],
  "metadata": {
    "interpreter": {
      "hash": "8fac594bfae6525c0c41b4041d2d72effa188cc8ead05f81b1fab2bb098927fb"
    },
    "kernelspec": {
      "display_name": "Python 3.9.7 ('base')",
      "language": "python",
      "name": "python3"
    },
    "language_info": {
      "codemirror_mode": {
        "name": "ipython",
        "version": 3
      },
      "file_extension": ".py",
      "mimetype": "text/x-python",
      "name": "python",
      "nbconvert_exporter": "python",
      "pygments_lexer": "ipython3",
      "version": "3.9.7"
    },
    "orig_nbformat": 4,
    "colab": {
      "name": "Social Media Monitoring.ipynb",
      "provenance": [],
      "collapsed_sections": []
    }
  },
  "nbformat": 4,
  "nbformat_minor": 0
}